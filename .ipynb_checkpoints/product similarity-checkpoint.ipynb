{
 "cells": [
  {
   "cell_type": "code",
   "execution_count": 1,
   "id": "d6ac6004",
   "metadata": {},
   "outputs": [],
   "source": [
    "# -*- coding: utf-8 -*-\n",
    "\"\"\"\n",
    "Created on Mon Mar 30 12:46:51 2020\n",
    "@author: x.liang@greenwich.ac.uk\n",
    "Image Similarity using ResNet50\n",
    "\"\"\"\n",
    "import os\n",
    "import numpy as np\n",
    "from resnet50 import ResNet50\n",
    "#from keras.models import Model\n",
    "from keras.layers import Input\n",
    "from keras.preprocessing import image\n",
    "from keras.applications.imagenet_utils import preprocess_input\n",
    "from sklearn.metrics.pairwise import cosine_similarity\n",
    "#from scipy.spatial import distance\n",
    "\n",
    "'''\n",
    "def get_feature_vector(img):\n",
    " img1 = cv2.resize(img, (224, 224))\n",
    " feature_vector = feature_model.predict(img1.reshape(1, 224, 224, 3))\n",
    " return feature_vector\n",
    "'''\n",
    "# avg_pool (AveragePooling2D) output shape: (None, 1, 1, 2048)\n",
    "# Latest Keras version causing no 'flatten_1' issue; output shape:(None,2048) \n",
    "def get_feature_vector_fromPIL(img):\n",
    "    feature_vector = feature_model.predict(img)\n",
    "    a, b, c, n = feature_vector.shape\n",
    "    feature_vector= feature_vector.reshape(b,n)\n",
    "    return feature_vector\n",
    "\n",
    "def calculate_similarity_cosine(vector1, vector2):\n",
    " #return 1 - distance.cosine(vector1, vector2)\n",
    "    return cosine_similarity(vector1, vector2)\n",
    "\n",
    "# This distance can be in range of [0,∞]. And this distance is converted to a [0,1]\n",
    "def calculate_similarity_euclidean(vector1, vector2):\n",
    "    return 1/(1 + np.linalg.norm(vector1- vector2))  \n",
    "\n",
    "# Use ResNet-50 model as an image feature extractor\n",
    "image_input = Input(shape=(224, 224, 3))\n",
    "feature_model = ResNet50(input_tensor=image_input, include_top=False,weights='imagenet')\n",
    "\n",
    "# Load images in the images folder into array\n",
    "#TODO set path to folder with images\n",
    "data_path = '/home/vakidzaci/projects/SIFTImageSimilarity/data/dataset'\n",
    "\n",
    "data_dir_list = os.listdir(data_path)"
   ]
  },
  {
   "cell_type": "code",
   "execution_count": 2,
   "id": "6c80960f",
   "metadata": {},
   "outputs": [],
   "source": [
    "def getimg(img_path):\n",
    "    img_path = data_path + '/'+ img_path\n",
    "    img = image.load_img(img_path, target_size=(224, 224))\n",
    "    x = image.img_to_array(img)\n",
    "    x = np.expand_dims(x, axis=0)\n",
    "    x = preprocess_input(x)\n",
    "    return x"
   ]
  },
  {
   "cell_type": "code",
   "execution_count": 3,
   "id": "3783d1fc",
   "metadata": {},
   "outputs": [],
   "source": [
    "data_dir_list.sort()"
   ]
  },
  {
   "cell_type": "code",
   "execution_count": 4,
   "id": "994979b0",
   "metadata": {},
   "outputs": [],
   "source": [
    "pairs = []\n",
    "c = 0\n",
    "\n",
    "# same object on different images\n",
    "while c < len(data_dir_list)-1:\n",
    "    code1 = data_dir_list[c].split(\"_\")[0]\n",
    "    code2 = data_dir_list[c + 1].split(\"_\")[0]\n",
    "    if code1 == code2:\n",
    "        pairs.append([data_dir_list[c],data_dir_list[c+1], 1])\n",
    "        c += 1\n",
    "    c += 1\n",
    "\n",
    "import random\n",
    "for i in range(len(data_dir_list)):\n",
    "    filepath1 = data_dir_list[i]\n",
    "    filepath2 = random.choice(data_dir_list)\n",
    "    if filepath1.split(\"_\")[0] != filepath2.split(\"_\")[1]:\n",
    "        pairs.append([filepath1, filepath2, 0])"
   ]
  },
  {
   "cell_type": "code",
   "execution_count": 5,
   "id": "1c06254f",
   "metadata": {},
   "outputs": [],
   "source": [
    "def getScore(file1,file2):\n",
    "    img1 = getimg(file1)\n",
    "    img2 = getimg(file2)\n",
    "    image_similarity_cosine = calculate_similarity_cosine(get_feature_vector_fromPIL(img1), get_feature_vector_fromPIL(img2))\n",
    "    return  image_similarity_cosine[0][0]"
   ]
  },
  {
   "cell_type": "code",
   "execution_count": null,
   "id": "a7a9710a",
   "metadata": {
    "scrolled": true
   },
   "outputs": [],
   "source": [
    "pairs = np.array(pairs)\n",
    "predictions = []\n",
    "for filename1, filename2, cls_ in pairs:\n",
    "    pred_score = getScore(filename1, filename2)\n",
    "    predictions.append(pred_score)"
   ]
  },
  {
   "cell_type": "code",
   "execution_count": null,
   "id": "c4700da5",
   "metadata": {},
   "outputs": [],
   "source": [
    "y_true = pairs[:,2]\n",
    "y_true = y_true.astype(np.float)"
   ]
  },
  {
   "cell_type": "code",
   "execution_count": null,
   "id": "cce37d90",
   "metadata": {},
   "outputs": [],
   "source": [
    "y_true.shape[0], len(predictions)"
   ]
  },
  {
   "cell_type": "code",
   "execution_count": null,
   "id": "1f7d9b30",
   "metadata": {},
   "outputs": [],
   "source": [
    "y_pred = []\n",
    "threshold = 0.5\n",
    "for score in predictions:\n",
    "    if score > threshold:\n",
    "        y_pred.append(1)\n",
    "    else:\n",
    "        y_pred.append(0)"
   ]
  },
  {
   "cell_type": "code",
   "execution_count": null,
   "id": "3609b8e0",
   "metadata": {},
   "outputs": [],
   "source": [
    "from sklearn.metrics import accuracy_score, precision_score, recall_score\n",
    "print(f\"Accuracy {accuracy_score(y_true, y_pred)}\")\n",
    "print()\n",
    "print(\"For same objects\")\n",
    "print(f\"Precision {precision_score(y_true, y_pred,pos_label=1)}\")\n",
    "print(f\"Recall {recall_score(y_true, y_pred,pos_label=1)}\")\n",
    "print()\n",
    "print(\"For different objects\")\n",
    "print(f\"Precision {precision_score(y_true, y_pred,pos_label=0)}\")\n",
    "print(f\"Recall {recall_score(y_true, y_pred,pos_label=0)}\")"
   ]
  }
 ],
 "metadata": {
  "kernelspec": {
   "display_name": "bottle",
   "language": "python",
   "name": "bottle"
  },
  "language_info": {
   "codemirror_mode": {
    "name": "ipython",
    "version": 3
   },
   "file_extension": ".py",
   "mimetype": "text/x-python",
   "name": "python",
   "nbconvert_exporter": "python",
   "pygments_lexer": "ipython3",
   "version": "3.8.6"
  }
 },
 "nbformat": 4,
 "nbformat_minor": 5
}
